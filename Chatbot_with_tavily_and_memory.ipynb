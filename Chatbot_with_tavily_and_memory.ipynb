{
  "nbformat": 4,
  "nbformat_minor": 0,
  "metadata": {
    "colab": {
      "provenance": [],
      "collapsed_sections": [
        "2iI3iUmTP8JF",
        "cmrFRUbkQM5y"
      ],
      "authorship_tag": "ABX9TyOzWkMHbT/z9gq/3V9Ey/q3",
      "include_colab_link": true
    },
    "kernelspec": {
      "name": "python3",
      "display_name": "Python 3"
    },
    "language_info": {
      "name": "python"
    }
  },
  "cells": [
    {
      "cell_type": "markdown",
      "metadata": {
        "id": "view-in-github",
        "colab_type": "text"
      },
      "source": [
        "<a href=\"https://colab.research.google.com/github/maheenna/chatbot_with_tavily_and_memory/blob/main/Chatbot_with_tavily_and_memory.ipynb\" target=\"_parent\"><img src=\"https://colab.research.google.com/assets/colab-badge.svg\" alt=\"Open In Colab\"/></a>"
      ]
    },
    {
      "cell_type": "markdown",
      "source": [
        "# Simple Chatbot Without Web Search Access and Memory\n"
      ],
      "metadata": {
        "id": "2iI3iUmTP8JF"
      }
    },
    {
      "cell_type": "code",
      "execution_count": 1,
      "metadata": {
        "colab": {
          "base_uri": "https://localhost:8080/"
        },
        "collapsed": true,
        "id": "QcW_J4Bu_2-N",
        "outputId": "5ddade44-cdd9-43e4-aee5-1f50329849af"
      },
      "outputs": [
        {
          "output_type": "stream",
          "name": "stdout",
          "text": [
            "\u001b[?25l   \u001b[90m━━━━━━━━━━━━━━━━━━━━━━━━━━━━━━━━━━━━━━━━\u001b[0m \u001b[32m0.0/125.1 kB\u001b[0m \u001b[31m?\u001b[0m eta \u001b[36m-:--:--\u001b[0m\r\u001b[2K   \u001b[90m━━━━━━━━━━━━━━━━━━━━━━━━━━━━━━━━━━━━━━━━\u001b[0m \u001b[32m125.1/125.1 kB\u001b[0m \u001b[31m4.0 MB/s\u001b[0m eta \u001b[36m0:00:00\u001b[0m\n",
            "\u001b[?25h\u001b[?25l   \u001b[90m━━━━━━━━━━━━━━━━━━━━━━━━━━━━━━━━━━━━━━━━\u001b[0m \u001b[32m0.0/2.4 MB\u001b[0m \u001b[31m?\u001b[0m eta \u001b[36m-:--:--\u001b[0m\r\u001b[2K   \u001b[91m━━━━━━━━━━━━━━━━━━━━━━━━━━\u001b[0m\u001b[91m╸\u001b[0m\u001b[90m━━━━━━━━━━━━━\u001b[0m \u001b[32m1.6/2.4 MB\u001b[0m \u001b[31m49.2 MB/s\u001b[0m eta \u001b[36m0:00:01\u001b[0m\r\u001b[2K   \u001b[90m━━━━━━━━━━━━━━━━━━━━━━━━━━━━━━━━━━━━━━━━\u001b[0m \u001b[32m2.4/2.4 MB\u001b[0m \u001b[31m36.4 MB/s\u001b[0m eta \u001b[36m0:00:00\u001b[0m\n",
            "\u001b[2K   \u001b[90m━━━━━━━━━━━━━━━━━━━━━━━━━━━━━━━━━━━━━━━━\u001b[0m \u001b[32m41.3/41.3 kB\u001b[0m \u001b[31m2.2 MB/s\u001b[0m eta \u001b[36m0:00:00\u001b[0m\n",
            "\u001b[2K   \u001b[90m━━━━━━━━━━━━━━━━━━━━━━━━━━━━━━━━━━━━━━━━\u001b[0m \u001b[32m1.0/1.0 MB\u001b[0m \u001b[31m34.9 MB/s\u001b[0m eta \u001b[36m0:00:00\u001b[0m\n",
            "\u001b[2K   \u001b[90m━━━━━━━━━━━━━━━━━━━━━━━━━━━━━━━━━━━━━━━━\u001b[0m \u001b[32m409.5/409.5 kB\u001b[0m \u001b[31m18.1 MB/s\u001b[0m eta \u001b[36m0:00:00\u001b[0m\n",
            "\u001b[2K   \u001b[90m━━━━━━━━━━━━━━━━━━━━━━━━━━━━━━━━━━━━━━━━\u001b[0m \u001b[32m3.1/3.1 MB\u001b[0m \u001b[31m47.8 MB/s\u001b[0m eta \u001b[36m0:00:00\u001b[0m\n",
            "\u001b[2K   \u001b[90m━━━━━━━━━━━━━━━━━━━━━━━━━━━━━━━━━━━━━━━━\u001b[0m \u001b[32m49.5/49.5 kB\u001b[0m \u001b[31m3.1 MB/s\u001b[0m eta \u001b[36m0:00:00\u001b[0m\n",
            "\u001b[?25h"
          ]
        }
      ],
      "source": [
        "!pip install -q -U langgraph langchain_community langchain-google-genai"
      ]
    },
    {
      "cell_type": "code",
      "source": [
        "from google.colab import userdata\n",
        "gemini_api_key = userdata.get('GEMINI_API_KEY')"
      ],
      "metadata": {
        "id": "7vq-PEmbAuX0"
      },
      "execution_count": 2,
      "outputs": []
    },
    {
      "cell_type": "code",
      "source": [
        "from langchain_google_genai import ChatGoogleGenerativeAI\n",
        "llm = ChatGoogleGenerativeAI(\n",
        "    model=\"gemini-1.5-flash\",\n",
        "    temperature=0.2,\n",
        "    api_key=gemini_api_key\n",
        ")"
      ],
      "metadata": {
        "id": "FTTGlwFNBFQN"
      },
      "execution_count": 3,
      "outputs": []
    },
    {
      "cell_type": "code",
      "source": [
        "from typing_extensions import TypedDict\n",
        "\n",
        "class State(TypedDict):\n",
        "  message:str\n"
      ],
      "metadata": {
        "id": "Yg0DNMgWBp0r"
      },
      "execution_count": 4,
      "outputs": []
    },
    {
      "cell_type": "code",
      "source": [
        "from langgraph.graph import START , END , StateGraph\n",
        "\n",
        "def chatbot(state:State):\n",
        "  return {\"message\":[llm.invoke(state[\"message\"])]}\n",
        "\n",
        "graph_builder = StateGraph(State)\n",
        "# add node - pass the node name first, followed by the function\n",
        "graph_builder.add_node(\"Chatbot\", chatbot)\n",
        "\n",
        "# add edges\n",
        "graph_builder.add_edge(START ,\"Chatbot\")\n",
        "graph_builder.add_edge(\"Chatbot\" , END)\n",
        "graph = graph_builder.compile()"
      ],
      "metadata": {
        "id": "TEzNtIAgCvK9"
      },
      "execution_count": null,
      "outputs": []
    },
    {
      "cell_type": "code",
      "source": [
        "from IPython.display import Image, display\n",
        "display(Image(graph.get_graph().draw_mermaid_png()))"
      ],
      "metadata": {
        "colab": {
          "base_uri": "https://localhost:8080/",
          "height": 251
        },
        "id": "lGbY0ZtzDYKr",
        "outputId": "5f686e3a-20eb-4c9a-b507-1453b5a0c0bf"
      },
      "execution_count": null,
      "outputs": [
        {
          "output_type": "display_data",
          "data": {
            "image/png": "[encoded data removed]",
            "text/plain": [
              "<IPython.core.display.Image object>"
            ]
          },
          "metadata": {}
        }
      ]
    },
    {
      "cell_type": "code",
      "source": [
        "def stream_graph_updates(user_input:str):\n",
        "    for event in graph.stream({\"message\": [(\"user\", user_input)]}):\n",
        "      for value in event.values():\n",
        "        print(\"Assistant: \", value[\"message\"][-1].content)\n",
        "\n",
        "user_input = \"Hi my name is Maheen\"\n",
        "stream_graph_updates(user_input)"
      ],
      "metadata": {
        "colab": {
          "base_uri": "https://localhost:8080/"
        },
        "id": "OkKHPWotNH8D",
        "outputId": "9460a2b0-4dcd-4be8-cded-d78ca55b262b"
      },
      "execution_count": null,
      "outputs": [
        {
          "output_type": "stream",
          "name": "stdout",
          "text": [
            "Assistant:  Hi Maheen, it's nice to meet you!  How can I help you today?\n",
            "\n"
          ]
        }
      ]
    },
    {
      "cell_type": "code",
      "source": [
        "def stream_graph_updates(user_input:str):\n",
        "    for event in graph.stream({\"message\": [(\"user\", user_input)]}):\n",
        "      for value in event.values():\n",
        "        print(\"Assistant: \", value[\"message\"][-1].content)\n",
        "\n",
        "user_input = \"what is my name and what is date today?\"\n",
        "stream_graph_updates(user_input)"
      ],
      "metadata": {
        "colab": {
          "base_uri": "https://localhost:8080/"
        },
        "id": "8rIUn2adPius",
        "outputId": "456bf288-0adc-44c7-ba7b-991c98febfb7"
      },
      "execution_count": null,
      "outputs": [
        {
          "output_type": "stream",
          "name": "stdout",
          "text": [
            "Assistant:  I do not know your name.  I have no access to personal information about you.\n",
            "\n",
            "Today's date is October 26, 2023.\n",
            "\n"
          ]
        }
      ]
    },
    {
      "cell_type": "markdown",
      "source": [
        "At this point the chatbot does not have web search and memory\n"
      ],
      "metadata": {
        "id": "WGf5W2K_PtVh"
      }
    },
    {
      "cell_type": "markdown",
      "source": [
        "# Tavily: Web Search Tool"
      ],
      "metadata": {
        "id": "cmrFRUbkQM5y"
      }
    },
    {
      "cell_type": "code",
      "source": [
        "!pip install -q -U tavily-python"
      ],
      "metadata": {
        "colab": {
          "base_uri": "https://localhost:8080/"
        },
        "id": "fvW_t30nRG09",
        "outputId": "f4ddda42-33b5-4a23-b0d9-c264e6fdc2c3"
      },
      "execution_count": 5,
      "outputs": [
        {
          "output_type": "stream",
          "name": "stdout",
          "text": [
            "\u001b[?25l   \u001b[90m━━━━━━━━━━━━━━━━━━━━━━━━━━━━━━━━━━━━━━━━\u001b[0m \u001b[32m0.0/1.2 MB\u001b[0m \u001b[31m?\u001b[0m eta \u001b[36m-:--:--\u001b[0m\r\u001b[2K   \u001b[91m━━━━\u001b[0m\u001b[91m╸\u001b[0m\u001b[90m━━━━━━━━━━━━━━━━━━━━━━━━━━━━━━━━━━━\u001b[0m \u001b[32m0.1/1.2 MB\u001b[0m \u001b[31m4.1 MB/s\u001b[0m eta \u001b[36m0:00:01\u001b[0m\r\u001b[2K   \u001b[91m━━━━━━━━━━━━━━━━━━━━━━━━━━━━━━━━━━━━\u001b[0m\u001b[90m╺\u001b[0m\u001b[90m━━━\u001b[0m \u001b[32m1.1/1.2 MB\u001b[0m \u001b[31m15.2 MB/s\u001b[0m eta \u001b[36m0:00:01\u001b[0m\r\u001b[2K   \u001b[90m━━━━━━━━━━━━━━━━━━━━━━━━━━━━━━━━━━━━━━━━\u001b[0m \u001b[32m1.2/1.2 MB\u001b[0m \u001b[31m12.9 MB/s\u001b[0m eta \u001b[36m0:00:00\u001b[0m\n",
            "\u001b[?25h"
          ]
        }
      ]
    },
    {
      "cell_type": "code",
      "source": [
        "import os\n",
        "os.environ[\"TAVILY_API_KEY\"] = userdata.get(\"TAVILY_API_KEY\")"
      ],
      "metadata": {
        "id": "m_2VqnKnR74G"
      },
      "execution_count": 6,
      "outputs": []
    },
    {
      "cell_type": "code",
      "source": [
        "from langchain_community.tools.tavily_search import TavilySearchResults\n",
        "\n",
        "tool = TavilySearchResults(max_results=2)\n",
        "tools = [tool]\n",
        "tool.invoke(\"what a node in langgraph?\")"
      ],
      "metadata": {
        "colab": {
          "base_uri": "https://localhost:8080/"
        },
        "id": "gQxWnGj88uqb",
        "outputId": "4df2cea6-a56f-4646-a64e-c4fe037887f0"
      },
      "execution_count": 7,
      "outputs": [
        {
          "output_type": "execute_result",
          "data": {
            "text/plain": [
              "[{'url': 'https://medium.com/@cplog/introduction-to-langgraph-a-beginners-guide-14f9be027141',\n",
              "  'content': 'Nodes: Nodes are the building blocks of your LangGraph. Each node represents a function or a computation step. You define nodes to perform specific tasks, such as processing input, making decisions, or interacting with external APIs.'},\n",
              " {'url': 'https://www.datacamp.com/tutorial/langgraph-tutorial',\n",
              "  'content': 'In LangGraph, each node represents an LLM agent, and the edges are the communication channels between these agents. This structure allows for clear and manageable workflows, where each agent performs specific tasks and passes information to other agents as needed.'}]"
            ]
          },
          "metadata": {},
          "execution_count": 7
        }
      ]
    },
    {
      "cell_type": "markdown",
      "source": [
        " **at this point we have made a tool of web search Now integrate this tool in chatbot **"
      ],
      "metadata": {
        "id": "n2dmQkFFShLg"
      }
    },
    {
      "cell_type": "code",
      "source": [
        "from typing import Annotated\n",
        "from typing_extensions import TypedDict\n",
        "from langgraph.graph.message import add_messages\n",
        "\n",
        "# this class add messages in a list\n",
        "class State(TypedDict):\n",
        "  messages: Annotated[list , add_messages]"
      ],
      "metadata": {
        "id": "UhKrMTc6Sxkl"
      },
      "execution_count": 10,
      "outputs": []
    },
    {
      "cell_type": "code",
      "source": [
        "from langgraph.graph import START , END , StateGraph\n",
        "from langgraph.prebuilt import ToolNode , tools_condition\n",
        "llm_with_tool = llm.bind_tools(tools)\n",
        "\n",
        "def chatbot(state:State):\n",
        "  return {\"messages\": llm_with_tool.invoke(state[\"messages\"])}\n",
        "\n",
        "def simple_tool_handler(user_input):\n",
        "    tool_response = tool.invoke(user_input)\n",
        "    return tool_response or \"No tool response available.\"\n",
        "\n",
        "graph_builder = StateGraph(State)\n",
        "graph_builder.add_node(\"Chatbot\", chatbot)\n",
        "\n",
        "graph_builder.add_node(\"Tools\", simple_tool_handler)\n",
        "\n",
        "graph_builder.add_edge(START , \"Chatbot\")\n",
        "graph_builder.add_conditional_edges(\n",
        "    \"Chatbot\",\n",
        "    tools_condition\n",
        ")\n",
        "graph_builder.add_edge(\"Tools\", \"Chatbot\")\n",
        "graph = graph_builder.compile()"
      ],
      "metadata": {
        "id": "18bCRCsFTKnj"
      },
      "execution_count": 12,
      "outputs": []
    },
    {
      "cell_type": "code",
      "source": [
        "from IPython.display import Image, display\n",
        "display(Image(graph.get_graph().draw_mermaid_png()))"
      ],
      "metadata": {
        "colab": {
          "base_uri": "https://localhost:8080/",
          "height": 266
        },
        "id": "uO2BkraOVzKT",
        "outputId": "dc16a15d-6f45-4a7b-9d0c-7c6cd27246f6"
      },
      "execution_count": 14,
      "outputs": [
        {
          "output_type": "display_data",
          "data": {
            "image/png": "[encoded data removed]",
            "text/plain": [
              "<IPython.core.display.Image object>"
            ]
          },
          "metadata": {}
        }
      ]
    },
    {
      "cell_type": "code",
      "source": [
        "def process_input(user_input: str):\n",
        "    \"\"\"\n",
        "    Process the user input and get a response from either Tavily tool or LLM.\n",
        "    \"\"\"\n",
        "    try:\n",
        "        # Step 1: Try Tavily tool first\n",
        "        tool_response = tool.invoke(user_input)\n",
        "        if tool_response:\n",
        "            print(\"Assistant (Tavily):\", tool_response)\n",
        "            return\n",
        "\n",
        "        # Step 2: If Tavily fails, fallback to LLM\n",
        "        llm_response = llm.invoke([(\"user\", user_input)])\n",
        "        if llm_response and isinstance(llm_response, list) and llm_response[0]:\n",
        "            print(\"Assistant (LLM):\", llm_response[0][\"content\"])\n",
        "            return\n",
        "\n",
        "        # Step 3: If everything fails\n",
        "        print(\"Assistant: Sorry, I could not process your request.\")\n",
        "    except Exception as e:\n",
        "        print(\"Error:\", e)\n",
        "        print(\"Assistant: An error occurred while processing your request.\")\n",
        "\n",
        "# Single input from user\n",
        "user_input = \"what is weather in karachi?\"\n",
        "process_input(user_input)\n"
      ],
      "metadata": {
        "colab": {
          "base_uri": "https://localhost:8080/"
        },
        "id": "d6jvIQJoWREB",
        "outputId": "cfbff20e-18ed-46a4-9d53-b41d77f54de6"
      },
      "execution_count": 15,
      "outputs": [
        {
          "output_type": "stream",
          "name": "stdout",
          "text": [
            "Assistant (Tavily): [{'url': 'https://www.weatherapi.com/', 'content': \"{'location': {'name': 'Karachi', 'region': 'Sindh', 'country': 'Pakistan', 'lat': 24.8667, 'lon': 67.05, 'tz_id': 'Asia/Karachi', 'localtime_epoch': 1733147398, 'localtime': '2024-12-02 18:49'}, 'current': {'last_updated_epoch': 1733147100, 'last_updated': '2024-12-02 18:45', 'temp_c': 27.2, 'temp_f': 81.0, 'is_day': 0, 'condition': {'text': 'Mist', 'icon': '//cdn.weatherapi.com/weather/64x64/night/143.png', 'code': 1030}, 'wind_mph': 10.3, 'wind_kph': 16.6, 'wind_degree': 280, 'wind_dir': 'W', 'pressure_mb': 1011.0, 'pressure_in': 29.85, 'precip_mm': 0.0, 'precip_in': 0.0, 'humidity': 28, 'cloud': 0, 'feelslike_c': 27.7, 'feelslike_f': 81.8, 'windchill_c': 25.9, 'windchill_f': 78.7, 'heatindex_c': 26.5, 'heatindex_f': 79.6, 'dewpoint_c': 14.0, 'dewpoint_f': 57.3, 'vis_km': 4.0, 'vis_miles': 2.0, 'uv': 0.0, 'gust_mph': 15.4, 'gust_kph': 24.8}}\"}, {'url': 'https://world-weather.info/forecast/pakistan/karachi/february-2024/', 'content': 'Detailed ⚡ Karachi Weather Forecast for February 2024 - day/night 🌡️ temperatures, precipitations - World-Weather.info ... Add the current city. Search. Weather; Archive; Widgets °F. World; Pakistan; Weather in Karachi; Weather in Karachi in February 2024. Karachi Weather Forecast for February 2024 is based on statistical data'}]\n"
          ]
        }
      ]
    },
    {
      "cell_type": "markdown",
      "source": [
        "now at that point chatbot has the functionality of  **Web Search **"
      ],
      "metadata": {
        "id": "qmJHGQTEBPJe"
      }
    },
    {
      "cell_type": "markdown",
      "source": [
        "# **Add memory in chatbot**"
      ],
      "metadata": {
        "id": "NvMWXhTQBgzk"
      }
    },
    {
      "cell_type": "code",
      "source": [
        "from langgraph.checkpoint.memory import MemorySaver\n",
        "memory = MemorySaver()"
      ],
      "metadata": {
        "id": "xbvae38HBu95"
      },
      "execution_count": null,
      "outputs": []
    },
    {
      "cell_type": "code",
      "source": [
        "from langgraph.graph import START , END , StateGraph\n",
        "from typing import Annotated\n",
        "from typing_extensions import TypedDict\n",
        "from langgraph.graph.message import add_messages\n",
        "from langchain.tools.tavily_search import TavilySearchResults\n",
        "\n",
        "class State(TypedDict):\n",
        "  messages: Annotated[list , add_messages]\n",
        "\n",
        "tool = TavilySearchResults(max_results=2)\n",
        "tools = [tool]\n",
        "llm_with_tool = llm.bind_tools(tools)\n",
        "\n",
        "def chatbot(state:State):\n",
        "  return {\"messages\": llm_with_tool.invoke(state[\"messages\"])}\n",
        "\n",
        "def simple_tool_handler(user_input):\n",
        "    tool_response = tool.invoke(user_input)\n",
        "    return tool_response or \"No tool response available.\"\n",
        "\n",
        "graph_builder = StateGraph(State)\n",
        "graph_builder.add_node(\"Chatbot\", chatbot)\n",
        "graph_builder.add_node(\"Tools\", simple_tool_handler)\n",
        "\n",
        "graph_builder.add_edge(START , \"Chatbot\")\n",
        "graph_builder.add_conditional_edges(\n",
        "    \"Chatbot\",\n",
        "    tools_condition\n",
        ")\n",
        "graph_builder.add_edge(\"Tools\", \"Chatbot\")"
      ],
      "metadata": {
        "colab": {
          "base_uri": "https://localhost:8080/"
        },
        "id": "b7GX2urBCWEt",
        "outputId": "eb90486b-8e28-43fa-b92b-d033cf91c568"
      },
      "execution_count": null,
      "outputs": [
        {
          "output_type": "execute_result",
          "data": {
            "text/plain": [
              "<langgraph.graph.state.StateGraph at 0x7ea8174461a0>"
            ]
          },
          "metadata": {},
          "execution_count": 42
        }
      ]
    },
    {
      "cell_type": "code",
      "source": [
        "graph = graph_builder.compile(checkpointer=memory)"
      ],
      "metadata": {
        "id": "kYZ5An8GJI4D"
      },
      "execution_count": null,
      "outputs": []
    },
    {
      "cell_type": "code",
      "source": [
        "display(Image(graph.get_graph().draw_mermaid_png()))"
      ],
      "metadata": {
        "colab": {
          "base_uri": "https://localhost:8080/",
          "height": 266
        },
        "id": "fQgLBRetI6zi",
        "outputId": "b27b7365-caf9-433b-d206-5339c6e82865"
      },
      "execution_count": null,
      "outputs": [
        {
          "output_type": "display_data",
          "data": {
            "image/png": "[encoded data removed]",
            "text/plain": [
              "<IPython.core.display.Image object>"
            ]
          },
          "metadata": {}
        }
      ]
    },
    {
      "cell_type": "code",
      "source": [
        "config = {\"configurable\":{\"thread_id\":1}}"
      ],
      "metadata": {
        "id": "VQlapWAtJc3j"
      },
      "execution_count": null,
      "outputs": []
    },
    {
      "cell_type": "code",
      "source": [
        "user_input = \"Hi, there my name is Maheen.\"\n",
        "events = graph.stream(\n",
        "    {\"messages\":[(\"user\",user_input)]},config , stream_mode=\"values\"\n",
        ")\n",
        "for event in events:\n",
        "  event[\"messages\"][-1].pretty_print()"
      ],
      "metadata": {
        "colab": {
          "base_uri": "https://localhost:8080/"
        },
        "id": "ef_0YqSHJ0wO",
        "outputId": "a47b1ed8-4a21-4b72-be9f-dac66d152615"
      },
      "execution_count": null,
      "outputs": [
        {
          "output_type": "stream",
          "name": "stdout",
          "text": [
            "================================\u001b[1m Human Message \u001b[0m=================================\n",
            "\n",
            "Hi, there my name is Maheen.\n",
            "==================================\u001b[1m Ai Message \u001b[0m==================================\n",
            "\n",
            "Hi Maheen, it's nice to meet you! How can I help you today?\n"
          ]
        }
      ]
    },
    {
      "cell_type": "code",
      "source": [
        "user_input = \"what is my name?\"\n",
        "events = graph.stream(\n",
        "    {\"messages\":[(\"user\",user_input)]},config , stream_mode=\"values\"\n",
        ")\n",
        "for event in events:\n",
        "  event[\"messages\"][-1].pretty_print()"
      ],
      "metadata": {
        "colab": {
          "base_uri": "https://localhost:8080/"
        },
        "id": "NlfrdXveJ5Dc",
        "outputId": "ebcdfd78-d70a-4c67-81df-92ad22104d2b"
      },
      "execution_count": null,
      "outputs": [
        {
          "output_type": "stream",
          "name": "stdout",
          "text": [
            "================================\u001b[1m Human Message \u001b[0m=================================\n",
            "\n",
            "what is my name?\n",
            "==================================\u001b[1m Ai Message \u001b[0m==================================\n",
            "\n",
            "Your name is Maheen.\n"
          ]
        }
      ]
    }
  ]
}